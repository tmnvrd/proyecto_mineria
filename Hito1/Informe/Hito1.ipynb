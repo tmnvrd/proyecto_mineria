{
 "cells": [
  {
   "cell_type": "markdown",
   "metadata": {},
   "source": [
    " \n"
   ]
  },
  {
   "cell_type": "markdown",
   "metadata": {},
   "source": [
    "# <center> ¿COVID-19 una pandemia?\n",
    " Tamara Novoa <br>\n",
    "Francisca Grandón <br> \n",
    "Carolina Salgado <br>\n",
    "Cristófer Benavides <br>\n",
    "Néstor Álvarez"
   ]
  },
  {
   "cell_type": "markdown",
   "metadata": {},
   "source": [
    "## Introducción\n",
    "\n",
    "COVID-19 o también conocido por su nombre común *corona virus*. Fue llamado pandemia por la OMS (Organización mundial de la salud) el pasado 11 de Marzo por el director de ésta organización, Tedros Adhanom, argumentando en parte su rápida expansión. \n",
    "\n",
    "Las consecuencias de la propagación de éste virus han sido catastróficas para la economía mundial, pues las numerosas cuarentenas y cierres de fronteras has significado una paralización cercana a total, de la economía mundial. Ha puesto al descubierto las capacidades de los distintos gobiernos del mundo para manejar complejas situaciones con efectos ramificados y no sólo eso, su expansión a causado miles de muertes en el mundo y ha colapsado sistemas de salud hasta en países como Estados unidos.\n",
    "\n",
    "El virus comenzó el China y desde ahí se fue expandiendo a Europa para finalmente llegar a América a finales del primer trimestre del año. Sin embargo, en todo éste recorriedo que ha sido su expansión, ha tenido consecuencias muy diferentes para cada país al que ha llegado. Luego de casi tres meses de lucha, China fue capaz de controlarlo, *aplanando su curva de contagios*, Korea también ha sido capaz de controlarlo, pero países como Italia, España y Estados Unidos, son ejemplos de lugares en los que se ha salido por completo de control.\n",
    "\n",
    "Eso es todo lo que nos muestran los medios masivos de comunicación: caos, descontrol, miles de muertes en todo el mundo, pero ¿Cuál es la verdadera estadística que hay detrás? ¿Cuáles son los verdaderos números? ¿Por qué hay diferencias estadísticas abismales en los medidores de la enermedad? Poniendo como ejemplo, países de los más estudiados, como Korea del sur, Islandia y Alemania dicen que la tasa de mortalidad del virus se sitúa entre $0.1$% y $0.4$%, lo cual es hasta veinte veces menos que lo publicado por la OMS.\n",
    "\n",
    "Entonces, en el presente trabajo se busca corroborar ciertas estadísticas asociadas al virus y analizar si es que efectivamente hay diferencias entre países y ver si es que estas diferencias se traducen en patrones que en cierta forma expliquen la expansión del virus."
   ]
  },
  {
   "cell_type": "markdown",
   "metadata": {},
   "source": [
    "## Aborde inicial\n",
    "\n",
    "Los problemas en los que se enfoca este trabajo se dirigen, por una parte, a determinar si efectivamente la información que se recibe por los distintos medios de comunicación masiva, coincide con lo que se puede obtener a partir del trabajo directo con los datos, los cuales recogen registros de contagiados, fallecidos y recuperados a nivel mundial. Lo cual, en cierta medida, ya se avanzó con el pre-procesamiento que se verá a continuación.\n",
    "\n",
    "Por otra parte, el problema se centra en buscar similitudes y diferencias entre países, los cuales se puedan correlacionar a cómo evoluciona el COVID-19 en cada territorio. Factores a comparar que se orientan tanto en el comportamiento de sus respectivas curvas de contagios, mortalidad y recuperados, como en cuestiones que están fuera del contexto del virus, es decir, parámetros demográficos, sociales y económicos, como la densidad poblacional, la tasa de mortalidad, el PIB, entre otros.\n",
    "Bajo estos antecedentes, se realizará una búsqueda de patrones en el dataset, de manera que sea posible clasificar a los países de acuerdo a estas características, y así concluir respecto al futuro de los países que se enfrentan a esta pandemia."
   ]
  },
  {
   "cell_type": "markdown",
   "metadata": {},
   "source": [
    "## Análisis exploratorio\n",
    "\n",
    "### Entendiendo los datos\n",
    "\n",
    "Se utilizó la bases de datos más actualizada a la fecha , la que se encuentra en un <a href='https://github.com/CSSEGISandData/COVID-19'>respositorio de Githud de la universidad de Hopkings</a> que se va actualizando diariamente con el número de nuevos casos en el mundo. \n",
    "\n",
    "La base posee datos de contagiados, recuperados y muertos; además, cada uno de estos dataset posee las siguientes columnas: Proviencia, País, Lat, Long y las Fechas desde el $22$ de Enero a la actualidad, pero como no es sensato ir actualizando y por ende cambiando los análisis observados, los gráficos de series de tiempo se realizaron con información hasta el $20$ de Abril. <br>\n",
    "Cabe destacar que esta base presentaba nula aparición de valores faltantes o $NaN$ lo cual facilitó el trabajo posterior. \n",
    "\n",
    "Sin embargo, se consideró que sólo trabajar con series de tiempo no era suficiente, de forma que mediante una serie de merges, se agregaron variables explicativas asociadas a los países tales como: ingreso percápita, densidad poblacional, el porcentaje de alfabetización, cantidad de población, tasa mortalidad y de natalidad. Todos estos valores fueron obtenidos en una base de <a href='https://www.kaggle.com/fernandol/countries-of-the-world'>Kaggle</a> con información del año 2017."
   ]
  },
  {
   "cell_type": "markdown",
   "metadata": {},
   "source": [
    "### Visión gráfica de los datos\n",
    "\n",
    "Para comenzar el análisis visual, lo primero fue tener una comparación de los países según los casos confirmados. \n",
    "La idea era ver la forma de avance del virus. Sin embargo, ya que los países poseen poblaciones tan dispares como se observa en los gráficos de más abajo, fue imperiosa la normalización de sus casos. \n",
    "Para ésto, se tomaron dos formas de normalización: \n",
    "1. La primera corresponde a normalizar los casos según su población, donde se consultaron manualmente la población de cada país y con esto se pasó a porcentaje la cantidad de casos confirmados ( $\\% =  100 * Casos / Población$). En este gráfico se observa que el caso más crítico corresponde España, pues tiene más contagiados respecto de su población total, superando el $4$%. \n",
    "\n",
    "2. La segunda forma corresponde a la visualización de los casos en escala logarítmica que es la escala que más se usa para mostrar los datos en los medios masivos de comunicación.\n",
    "\n",
    "Éste análisis exploratorio se centrará en los contagiados y muertos, estudiándose algunas relaciones interesantes con las variables explicativas así como las series de tiempo.\n",
    "\n",
    "Comenzado por los *contagiados*, dada su reelevancia y puesto que es lo que más se muestra en los medios masivos, se comenzará con las series de tiempo. Ahora, dado que ver las series de tiempo de todos los $170$ países en la base no es muy interpretable a primera vista, se hizo una selección de los $10$ países con más contagios obteniéndose las figuras 1 y 2 respectivamente."
   ]
  },
  {
   "cell_type": "markdown",
   "metadata": {},
   "source": [
    "<img src=\"Imagenes/top10contagio_sn.jpeg\" alt=\"Top 10 contagiados sin normalizar\" width=\"400\" height=\"500\"> <center>Figura 1"
   ]
  },
  {
   "cell_type": "markdown",
   "metadata": {},
   "source": [
    "Curiosamente, sin normalizar, los top 10 países de contagios vienen dados por los que son los más controversiales en el momento en los noticiarios y diarios: España e Italia, seguidos por US y Francia. Sin embargo, al normalizar por la población, éstos cambian y se ve que a la cabeza de los contagios está un micro estado llamado San Marino, seguido por Andorra y Luxemburgo, siendo éste último alcanzado por Qatar al final. Entonces, se tene la primera evidencia de que la estadística mostrada en la televisión no es la acertada."
   ]
  },
  {
   "cell_type": "markdown",
   "metadata": {},
   "source": [
    "<img src=\"Imagenes/top10contagio_n.jpeg\" alt=\"Top 10 contagiados normalizados\" width=\"400\" height=\"500\"> <center>Figura 2"
   ]
  },
  {
   "cell_type": "markdown",
   "metadata": {},
   "source": [
    "Ahora, respecto de las curvas de crecimiento de la curva normalizada, que vendría a ser la mejor representación de los contagios en la realidad de cada país, se ve que todos han comenzado a mostrar tendencias de aplanamiento de la curva menos San Marino y Qatar, las cuales continúan aumentando. Mientras que las curvas que se observan más planas, fueron las de Islandia, Italia y Suiza, lo cual lleva a que estos tres países están siendo capaces de controlar el avance del virus."
   ]
  },
  {
   "cell_type": "markdown",
   "metadata": {},
   "source": [
    "Se graficaron diversas variables representativas de los paises tales como densidad poblacional , GDP , alfabetización y población , todas estas variables representadas v/s la cantidad de contagios normalizados, destacando los países que presentaban la mayor cantidad de contagios, mostrándo la posición de Chile para hacer una comparativa a nivel nacional.\n",
    "\n",
    "Como se observa de la figura 3 los países que presentan un bajo GPD en su mayoría no se han visto tan afectados por el virus, esto bien podría deberse a que en una primera etapa del virus las personas de estos países viajaban menos al extranjero trayendo a menos personas infectadas. Del mismo modo, países de bajo GPD no estan testeando correctamente a las personas por lo que la cantidad de contagiados registrada es menor a la real. Por otro lado, países con alto GPD prestan gran diversidad con respecto a la cantidad de contagiados, pudiendo deberse tanto a la distribución del GPD en la población como al tipo de gobierno o politicas que rigen al país."
   ]
  },
  {
   "cell_type": "markdown",
   "metadata": {},
   "source": [
    "<img src=\"Imagenes/GDP_vs_contagios_normalizados.png\" width=400 height=500 />\n",
    "\n",
    "<center>Figura 3"
   ]
  },
  {
   "cell_type": "markdown",
   "metadata": {},
   "source": [
    "En la figura 4 se muestra la densidad poblacional medida en persona por milla cuadrada contra la cantidad de contagiados normalizada, se aprecia, contrario al sentido común que mientras más denso es el país menos cantidad de contagiados presenta, pudiendo deberse ésto, a que en países menos densos el control de la población es bastante más complicado. También cabe la posibilidad que países medianamente desarrollados tengan una mayor capacidad de testeo por lo que registran mayor cantidad de contagiados.\n"
   ]
  },
  {
   "cell_type": "markdown",
   "metadata": {},
   "source": [
    "<img src=\"Imagenes/densidad_poblacional_vs_contagiosnormalizados.png\" width=400 height=500 />\n",
    "\n",
    "<center>Figura 4"
   ]
  },
  {
   "cell_type": "markdown",
   "metadata": {},
   "source": [
    "En cuanto a la cifra de muertes, número que representa la gravedad que ha tenido la pandemia en cada país, se visualizan las curvas correspondientes a las diez localidades que han presentado una mayor cantidad de fallecidos hasta el pasado 20 de abril. Lo cual se muestra en la figura 5. Donde se puede ver que Bélgica, España e Italia encabezan a los demás países. Y se observa que la curva de Bélgica ha ascendido considerablemente en las últimas semanas, superando a todo el resto del mundo, efecto que lo ha llevado a ser el foco de atención en los últimos días. \n"
   ]
  },
  {
   "cell_type": "markdown",
   "metadata": {},
   "source": [
    "<img src=\"Imagenes/top10muertes_sn.png\" width=400 height=500 />\n",
    "<center>Figura 5"
   ]
  },
  {
   "cell_type": "markdown",
   "metadata": {},
   "source": [
    "Ahora, se observa qué es lo que pasa con el índice de mortalidad si los datos de cada país se normalizan en función del número de habitantes de cada cual. En ese sentido, la figura 6 enseña las curvas de las diez localidades que alcanzan los valores más altos de muertes en razón de su población. Donde, San Marino vuelve a aparecer como el estado más afectado, siguiéndole Bélgica, España y el resto de los países, aunque con una diferencia considerablemente menor.\n",
    "\n"
   ]
  },
  {
   "cell_type": "markdown",
   "metadata": {},
   "source": [
    "<img src=\"Imagenes/top10muertes_n.png\" width=400 height=500 />\n",
    "<center>Figura 6"
   ]
  },
  {
   "cell_type": "markdown",
   "metadata": {},
   "source": [
    "De manera análoga a los casos confirmados, se graficaron los casos de muertos para cada país con respecto al GDP. Esto se muestra en la figura 7. \n",
    "Se observa que el comportamiento es similar al obtenido para los casos contagiados, donde nuevamente los países de bajo GDP no resultan tan afectados como los que poseen un alto valor en este índice. El parentesco entre los gráficos 3 y 7 se da por la correlación entre cantidad de contagiados y muertos."
   ]
  },
  {
   "cell_type": "markdown",
   "metadata": {},
   "source": [
    "<img src=\"Imagenes/GDP_vs_muertos.png\" width=400 height=500 />\n",
    "<center>Figura 7"
   ]
  },
  {
   "cell_type": "markdown",
   "metadata": {},
   "source": [
    "Con respecto a la relación entre casos de muertos y densidad población, ilustrada en figura 8, si bien los países más afectados son generalmente de baja densidad esta información no es concluyente, esto pues existe una cantidad considerable de naciones que con una densidad igual o menor no tienen los mismos casos de muertos. \n",
    "Una razón de este fenómeno es que no todos los países han sido afectados durante la misma cantidad de días y por lo tanto hay suficientes datos para realizar la comparación."
   ]
  },
  {
   "cell_type": "markdown",
   "metadata": {},
   "source": [
    "<img src=\"Imagenes/densidad_poblacional_vs_muertos.png\" width=400 height=500 />\n",
    "<center>Figura 8"
   ]
  },
  {
   "cell_type": "markdown",
   "metadata": {},
   "source": [
    "### Roles\n"
   ]
  },
  {
   "cell_type": "markdown",
   "metadata": {},
   "source": [
    "- *Tamara Novoa*: Confección gráficos análisis exploratorio, presentar\n",
    "- *Francisca Grandón*: Confección presentación, análisis de gráficos de series de tiempo para contagiados, introducción informe, presentar.\n",
    "- *Carolina Salgado*: Problemática para el informe, análisis de gráficos, presentar. \n",
    "- *Cristófer Benavides*: Confección de gráficos análisis explotatorio y su análisis, presentar.\n",
    "- *Néstor Álvarez*: Confección de gráficos análisis explotatorio y su análisis, presentar."
   ]
  },
  {
   "cell_type": "markdown",
   "metadata": {},
   "source": [
    "----\n",
    "Introdución a la Minería de Datos \n",
    "CC5206"
   ]
  }
 ],
 "metadata": {
  "kernelspec": {
   "display_name": "Python 3",
   "language": "python",
   "name": "python3"
  },
  "language_info": {
   "codemirror_mode": {
    "name": "ipython",
    "version": 3
   },
   "file_extension": ".py",
   "mimetype": "text/x-python",
   "name": "python",
   "nbconvert_exporter": "python",
   "pygments_lexer": "ipython3",
   "version": "3.6.7"
  }
 },
 "nbformat": 4,
 "nbformat_minor": 4
}
